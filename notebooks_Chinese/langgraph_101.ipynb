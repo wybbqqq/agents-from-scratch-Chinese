{
 "cells": [
  {
   "cell_type": "markdown",
   "id": "dc082433",
   "metadata": {},
   "source": [
    "# LangGraph 101\n",
    "\n",
    "[LLMs](https://python.langchain.com/docs/concepts/chat_models/) make it possible to embed intelligence into a new class of applications. [LangGraph](https://langchain-ai.github.io/langgraph/) is a framework to help build applications with LLMs. Here, we will overview the basics of LangGraph, explain its benefits, show how to use it to build workflows / agents, and show how it works with [LangChain](https://www.langchain.com/) / [LangSmith](https://docs.smith.langchain.com/).\n",
    "\n",
    "\n",
    "LangGraph可以快速部署基于LangChain的AI应用程序；LangSmith可以方便地对基于LangChain的应用程序进行调试、评估和监控，帮助开发者从程序原型过渡到实际生产；LaangGraph Studio则为LangGraph提供了可视化界面，开发者可以通过简单的拖曳模块构建自己的AI应用，从而进一步降低开发门槛\n",
    "\n",
    "![ecosystem](./img/ecosystem.png)\n",
    "\n",
    "## Chat models\n",
    "\n",
    "[Chat models](https://python.langchain.com/docs/concepts/chat_models/) are the foundation of LLM applications. They are typically accessed through a chat interface that takes a list of [messages](https://python.langchain.com/docs/concepts/messages/) as input and returns a [message](https://python.langchain.com/docs/concepts/messages/) as output. LangChain provides [a standardized interface for chat models](https://python.langchain.com/api_reference/langchain/chat_models/langchain.chat_models.base.init_chat_model.html), making it easy to [access many different providers](https://python.langchain.com/docs/integrations/chat/)."
   ]
  },
  {
   "cell_type": "code",
   "execution_count": 5,
   "id": "cecc2b24",
   "metadata": {},
   "outputs": [
    {
     "data": {
      "text/plain": [
       "True"
      ]
     },
     "execution_count": 5,
     "metadata": {},
     "output_type": "execute_result"
    }
   ],
   "source": [
    "from dotenv import load_dotenv\n",
    "load_dotenv(\"../.env\", override=True)"
   ]
  },
  {
   "cell_type": "code",
   "execution_count": 10,
   "id": "e0ee8f6c",
   "metadata": {},
   "outputs": [],
   "source": [
    "from langchain.chat_models import init_chat_model\n",
    "\n",
    "llm = init_chat_model(\n",
    "    \"qwen/qwen3-coder:free\",\n",
    "    model_provider=\"openai\",  # OpenRouter 兼容 OpenAI 格式\n",
    "    base_url=\"https://openrouter.ai/api/v1\",\n",
    "    api_key=\"your_openai_api\",\n",
    "    temperature=0\n",
    ")"
   ]
  },
  {
   "cell_type": "markdown",
   "id": "50777b0b",
   "metadata": {},
   "source": [
    "## Running the model\n",
    "\n",
    "The `init_chat_model` interface provides [standardized](https://python.langchain.com/docs/concepts/runnables/) methods for using chat models, which include:\n",
    "- `invoke()`: A single input is transformed into an output.\n",
    "- `stream()`: Outputs are [streamed](https://python.langchain.com/docs/concepts/streaming/#stream-and-astream) as they are produced. "
   ]
  },
  {
   "cell_type": "code",
   "execution_count": 11,
   "id": "a28159d5",
   "metadata": {},
   "outputs": [],
   "source": [
    "result = llm.invoke(\"What is an agent?\")"
   ]
  },
  {
   "cell_type": "code",
   "execution_count": 12,
   "id": "41137023",
   "metadata": {},
   "outputs": [
    {
     "data": {
      "text/plain": [
       "langchain_core.messages.ai.AIMessage"
      ]
     },
     "execution_count": 12,
     "metadata": {},
     "output_type": "execute_result"
    }
   ],
   "source": [
    "type(result)"
   ]
  },
  {
   "cell_type": "code",
   "execution_count": 14,
   "id": "dc1d00eb",
   "metadata": {},
   "outputs": [
    {
     "data": {
      "text/html": [
       "<pre style=\"white-space:pre;overflow-x:auto;line-height:normal;font-family:Menlo,'DejaVu Sans Mono',consolas,'Courier New',monospace\">An agent can refer to several different concepts depending on the context:                                         \n",
       "\n",
       "\n",
       "                                                <span style=\"font-weight: bold; text-decoration: underline\">General Definition</span>                                                 \n",
       "\n",
       "An <span style=\"font-weight: bold\">agent</span> is typically an entity that acts on behalf of another, with some degree of autonomy to make decisions and \n",
       "take actions to achieve specific goals.                                                                            \n",
       "\n",
       "\n",
       "                                              <span style=\"font-weight: bold; text-decoration: underline\">Common Types of Agents:</span>                                              \n",
       "\n",
       "<span style=\"font-weight: bold\">1. AI Agents</span>                                                                                                       \n",
       "\n",
       "<span style=\"color: #808000; text-decoration-color: #808000; font-weight: bold\"> • </span>Software programs that perceive their environment and take actions to achieve goals                             \n",
       "<span style=\"color: #808000; text-decoration-color: #808000; font-weight: bold\"> • </span>Examples: chatbots, recommendation systems, autonomous vehicles                                                 \n",
       "\n",
       "<span style=\"font-weight: bold\">2. Human Agents</span>                                                                                                    \n",
       "\n",
       "<span style=\"color: #808000; text-decoration-color: #808000; font-weight: bold\"> • </span>People who act on behalf of others (agents, representatives)                                                    \n",
       "<span style=\"color: #808000; text-decoration-color: #808000; font-weight: bold\"> • </span>Examples: real estate agents, travel agents, sales agents                                                       \n",
       "\n",
       "<span style=\"font-weight: bold\">3. Economic/Market Agents</span>                                                                                          \n",
       "\n",
       "<span style=\"color: #808000; text-decoration-color: #808000; font-weight: bold\"> • </span>Entities that make decisions in economic systems                                                                \n",
       "<span style=\"color: #808000; text-decoration-color: #808000; font-weight: bold\"> • </span>Examples: consumers, businesses, governments                                                                    \n",
       "\n",
       "<span style=\"font-weight: bold\">4. Biological Agents</span>                                                                                               \n",
       "\n",
       "<span style=\"color: #808000; text-decoration-color: #808000; font-weight: bold\"> • </span>Organisms that can cause disease                                                                                \n",
       "<span style=\"color: #808000; text-decoration-color: #808000; font-weight: bold\"> • </span>Examples: bacteria, viruses, parasites                                                                          \n",
       "\n",
       "<span style=\"font-weight: bold\">5. Chemical/Physical Agents</span>                                                                                        \n",
       "\n",
       "<span style=\"color: #808000; text-decoration-color: #808000; font-weight: bold\"> • </span>Substances that produce specific effects                                                                        \n",
       "<span style=\"color: #808000; text-decoration-color: #808000; font-weight: bold\"> • </span>Examples: cleaning agents, bleaching agents                                                                     \n",
       "\n",
       "\n",
       "                                                <span style=\"font-weight: bold; text-decoration: underline\">Key Characteristics</span>                                                \n",
       "\n",
       "Most agents share these traits:                                                                                    \n",
       "\n",
       "<span style=\"color: #808000; text-decoration-color: #808000; font-weight: bold\"> • </span><span style=\"font-weight: bold\">Autonomy</span>: Ability to operate independently                                                                      \n",
       "<span style=\"color: #808000; text-decoration-color: #808000; font-weight: bold\"> • </span><span style=\"font-weight: bold\">Goal-directed</span>: Work toward specific objectives                                                                  \n",
       "<span style=\"color: #808000; text-decoration-color: #808000; font-weight: bold\"> • </span><span style=\"font-weight: bold\">Reactive</span>: Respond to their environment                                                                          \n",
       "<span style=\"color: #808000; text-decoration-color: #808000; font-weight: bold\"> • </span><span style=\"font-weight: bold\">Proactive</span>: Take initiative when appropriate                                                                     \n",
       "\n",
       "What specific type of agent were you interested in learning about?                                                 \n",
       "</pre>\n"
      ],
      "text/plain": [
       "An agent can refer to several different concepts depending on the context:                                         \n",
       "\n",
       "\n",
       "                                                \u001b[1;4mGeneral Definition\u001b[0m                                                 \n",
       "\n",
       "An \u001b[1magent\u001b[0m is typically an entity that acts on behalf of another, with some degree of autonomy to make decisions and \n",
       "take actions to achieve specific goals.                                                                            \n",
       "\n",
       "\n",
       "                                              \u001b[1;4mCommon Types of Agents:\u001b[0m                                              \n",
       "\n",
       "\u001b[1m1. AI Agents\u001b[0m                                                                                                       \n",
       "\n",
       "\u001b[1;33m • \u001b[0mSoftware programs that perceive their environment and take actions to achieve goals                             \n",
       "\u001b[1;33m • \u001b[0mExamples: chatbots, recommendation systems, autonomous vehicles                                                 \n",
       "\n",
       "\u001b[1m2. Human Agents\u001b[0m                                                                                                    \n",
       "\n",
       "\u001b[1;33m • \u001b[0mPeople who act on behalf of others (agents, representatives)                                                    \n",
       "\u001b[1;33m • \u001b[0mExamples: real estate agents, travel agents, sales agents                                                       \n",
       "\n",
       "\u001b[1m3. Economic/Market Agents\u001b[0m                                                                                          \n",
       "\n",
       "\u001b[1;33m • \u001b[0mEntities that make decisions in economic systems                                                                \n",
       "\u001b[1;33m • \u001b[0mExamples: consumers, businesses, governments                                                                    \n",
       "\n",
       "\u001b[1m4. Biological Agents\u001b[0m                                                                                               \n",
       "\n",
       "\u001b[1;33m • \u001b[0mOrganisms that can cause disease                                                                                \n",
       "\u001b[1;33m • \u001b[0mExamples: bacteria, viruses, parasites                                                                          \n",
       "\n",
       "\u001b[1m5. Chemical/Physical Agents\u001b[0m                                                                                        \n",
       "\n",
       "\u001b[1;33m • \u001b[0mSubstances that produce specific effects                                                                        \n",
       "\u001b[1;33m • \u001b[0mExamples: cleaning agents, bleaching agents                                                                     \n",
       "\n",
       "\n",
       "                                                \u001b[1;4mKey Characteristics\u001b[0m                                                \n",
       "\n",
       "Most agents share these traits:                                                                                    \n",
       "\n",
       "\u001b[1;33m • \u001b[0m\u001b[1mAutonomy\u001b[0m: Ability to operate independently                                                                      \n",
       "\u001b[1;33m • \u001b[0m\u001b[1mGoal-directed\u001b[0m: Work toward specific objectives                                                                  \n",
       "\u001b[1;33m • \u001b[0m\u001b[1mReactive\u001b[0m: Respond to their environment                                                                          \n",
       "\u001b[1;33m • \u001b[0m\u001b[1mProactive\u001b[0m: Take initiative when appropriate                                                                     \n",
       "\n",
       "What specific type of agent were you interested in learning about?                                                 \n"
      ]
     },
     "execution_count": 14,
     "metadata": {},
     "output_type": "execute_result"
    }
   ],
   "source": [
    "from rich.markdown import Markdown\n",
    "Markdown(result.content)"
   ]
  },
  {
   "cell_type": "markdown",
   "id": "9a24d8ef",
   "metadata": {},
   "source": [
    "## Tools\n",
    "\n",
    "[Tools](https://python.langchain.com/docs/concepts/tools/) are utilities that can be called by a chat model. In LangChain, creating tools can be done using the `@tool` decorator, which transforms Python functions into callable tools. It will automatically infer the tool's name, description, and expected arguments from the function definition. You can also use [Model Context Protocol (MCP) servers](https://github.com/langchain-ai/langchain-mcp-adapters) as LangChain-compatible tools. "
   ]
  },
  {
   "cell_type": "markdown",
   "id": "6ff30091",
   "metadata": {},
   "source": [
    "@tool 装饰器把普通函数包装成 LangChain 工具，让大模型能“认识”它。"
   ]
  },
  {
   "cell_type": "code",
   "execution_count": 15,
   "id": "afdff275",
   "metadata": {},
   "outputs": [],
   "source": [
    "from langchain.tools import tool\n",
    "\n",
    "@tool\n",
    "def write_email(to: str, subject: str, content: str) -> str:\n",
    "    \"\"\"Write and send an email.\"\"\"\n",
    "    # Placeholder response - in real app would send email\n",
    "    return f\"Email sent to {to} with subject '{subject}' and content: {content}\""
   ]
  },
  {
   "cell_type": "markdown",
   "id": "af3c699f",
   "metadata": {},
   "source": [
    "函数签名告诉模型：发邮件需要 to, subject, content 三个参数。"
   ]
  },
  {
   "cell_type": "code",
   "execution_count": 16,
   "id": "c52ec55b-0b60-4b0c-95d4-ff528a64694e",
   "metadata": {},
   "outputs": [
    {
     "data": {
      "text/plain": [
       "langchain_core.tools.structured.StructuredTool"
      ]
     },
     "execution_count": 16,
     "metadata": {},
     "output_type": "execute_result"
    }
   ],
   "source": [
    "type(write_email)"
   ]
  },
  {
   "cell_type": "code",
   "execution_count": 17,
   "id": "23a40647-3d48-4760-aabe-144d627de110",
   "metadata": {},
   "outputs": [
    {
     "data": {
      "text/plain": [
       "{'to': {'title': 'To', 'type': 'string'},\n",
       " 'subject': {'title': 'Subject', 'type': 'string'},\n",
       " 'content': {'title': 'Content', 'type': 'string'}}"
      ]
     },
     "execution_count": 17,
     "metadata": {},
     "output_type": "execute_result"
    }
   ],
   "source": [
    "write_email.args"
   ]
  },
  {
   "cell_type": "code",
   "execution_count": 18,
   "id": "abd85ae4-9d4c-4efa-9577-aca96e9f22cd",
   "metadata": {},
   "outputs": [
    {
     "data": {
      "text/html": [
       "<pre style=\"white-space:pre;overflow-x:auto;line-height:normal;font-family:Menlo,'DejaVu Sans Mono',consolas,'Courier New',monospace\">Write and send an email.                                                                                           \n",
       "</pre>\n"
      ],
      "text/plain": [
       "Write and send an email.                                                                                           \n"
      ]
     },
     "execution_count": 18,
     "metadata": {},
     "output_type": "execute_result"
    }
   ],
   "source": [
    "Markdown(write_email.description)"
   ]
  },
  {
   "cell_type": "markdown",
   "id": "c8a6b427",
   "metadata": {},
   "source": [
    "## Tool Calling\n",
    "\n",
    "Tools can be [called](https://python.langchain.com/docs/concepts/tool_calling/) by LLMs. When a tool is bound to the model, the model can choose to call the tool by returning a structured output with tool arguments. We use the `bind_tools` method to augment an LLM with tools.\n",
    "\n",
    "![tool-img](img/tool_call_detail.png)\n",
    "\n",
    "Providers often have [parameters such as `tool_choice`](https://python.langchain.com/docs/how_to/tool_choice/) to enforce calling specific tools. `any` will select at least one of the tools.\n",
    "\n",
    "In addition, we can [set `parallel_tool_calls=False`](https://python.langchain.com/docs/how_to/tool_calling_parallel/) to ensure the model will only call one tool at a time."
   ]
  },
  {
   "cell_type": "markdown",
   "id": "9f05d2c9",
   "metadata": {},
   "source": [
    "bind_tools 把 write_email 注册给模型，让模型在需要时可以调用。\n",
    "tool_choice=\"any\"：模型可以选任意工具（这里只有一个）。\n",
    "parallel_tool_calls=False：一次只调用一个工具，避免同时发多封邮件。\n",
    "\n",
    "用户让模型“给老板回邮件”。\n",
    "模型分析后，决定调用 write_email，并自动生成参数。"
   ]
  },
  {
   "cell_type": "code",
   "execution_count": 19,
   "id": "bfa57bc4",
   "metadata": {},
   "outputs": [],
   "source": [
    "# Connect tools to a chat model\n",
    "model_with_tools = llm.bind_tools([write_email], tool_choice=\"any\", parallel_tool_calls=False)\n",
    "\n",
    "# The model will now be able to call tools\n",
    "output = model_with_tools.invoke(\"Draft a response to my boss (boss@company.ai) about tomorrow's meeting\")"
   ]
  },
  {
   "cell_type": "code",
   "execution_count": 20,
   "id": "7985eab6-9e6b-4fa5-8027-52d32886b97e",
   "metadata": {},
   "outputs": [
    {
     "data": {
      "text/plain": [
       "langchain_core.messages.ai.AIMessage"
      ]
     },
     "execution_count": 20,
     "metadata": {},
     "output_type": "execute_result"
    }
   ],
   "source": [
    "type(output)"
   ]
  },
  {
   "cell_type": "code",
   "execution_count": 21,
   "id": "ea0ce030-e760-4679-838f-d88d1480664e",
   "metadata": {},
   "outputs": [
    {
     "data": {
      "text/plain": [
       "AIMessage(content='', additional_kwargs={'tool_calls': [{'id': 'call_4dcc057e0013455dad7a722b', 'function': {'arguments': '{\"to\": \"boss@company.ai\", \"subject\": \"Re: Tomorrow\\'s Meeting\", \"content\": \"Hi [Boss\\'s Name],\\\\n\\\\nI wanted to confirm my attendance for tomorrow\\'s meeting. I am looking forward to it and have prepared the necessary materials.\\\\n\\\\nPlease let me know if there\\'s anything specific you\\'d like me to bring or review beforehand.\\\\n\\\\nBest regards,\\\\n[Your Name]\"}', 'name': 'write_email'}, 'type': 'function', 'index': 0}], 'refusal': None}, response_metadata={'token_usage': {'completion_tokens': 103, 'prompt_tokens': 335, 'total_tokens': 438, 'completion_tokens_details': None, 'prompt_tokens_details': None}, 'model_name': 'qwen/qwen3-coder:free', 'system_fingerprint': None, 'id': 'gen-1754983976-O1DxUWjbFMijpX5BpCk0', 'service_tier': None, 'finish_reason': 'tool_calls', 'logprobs': None}, id='run--c8115058-aec2-4b2c-bca5-ab9b06e9a1f7-0', tool_calls=[{'name': 'write_email', 'args': {'to': 'boss@company.ai', 'subject': \"Re: Tomorrow's Meeting\", 'content': \"Hi [Boss's Name],\\n\\nI wanted to confirm my attendance for tomorrow's meeting. I am looking forward to it and have prepared the necessary materials.\\n\\nPlease let me know if there's anything specific you'd like me to bring or review beforehand.\\n\\nBest regards,\\n[Your Name]\"}, 'id': 'call_4dcc057e0013455dad7a722b', 'type': 'tool_call'}], usage_metadata={'input_tokens': 335, 'output_tokens': 103, 'total_tokens': 438, 'input_token_details': {}, 'output_token_details': {}})"
      ]
     },
     "execution_count": 21,
     "metadata": {},
     "output_type": "execute_result"
    }
   ],
   "source": [
    "output"
   ]
  },
  {
   "cell_type": "markdown",
   "id": "580d06c0",
   "metadata": {},
   "source": [
    "output.tool_calls[0] 取到第 1 个（也是唯一一个）工具调用对象。\n",
    "\n",
    "['args'] 拿到它里面的参数字典\n",
    "\n",
    "最后 write_email.invoke(args) 把参数喂给实际的工具函数，返回：\n",
    "\"Email sent to boss@company.ai with subject 'Re: Tomorrow's Meeting' and content: Hi Boss, …\""
   ]
  },
  {
   "cell_type": "code",
   "execution_count": null,
   "id": "717779cb",
   "metadata": {},
   "outputs": [],
   "source": [
    "# Extract tool calls and execute them\n",
    "#把大模型决定调用工具时自动生成的参数取出来，交给真正的工具函数去执行。\n",
    "args = output.tool_calls[0]['args']\n",
    "args"
   ]
  },
  {
   "cell_type": "code",
   "execution_count": 23,
   "id": "09f85694",
   "metadata": {},
   "outputs": [
    {
     "data": {
      "text/html": [
       "<pre style=\"white-space:pre;overflow-x:auto;line-height:normal;font-family:Menlo,'DejaVu Sans Mono',consolas,'Courier New',monospace\">Email sent to boss@company.ai with subject 'Re: Tomorrow's Meeting' and content: Hi [Boss's Name],                 \n",
       "\n",
       "I wanted to confirm my attendance for tomorrow's meeting. I am looking forward to it and have prepared the         \n",
       "necessary materials.                                                                                               \n",
       "\n",
       "Please let me know if there's anything specific you'd like me to bring or review beforehand.                       \n",
       "\n",
       "Best regards, [Your Name]                                                                                          \n",
       "</pre>\n"
      ],
      "text/plain": [
       "Email sent to boss@company.ai with subject 'Re: Tomorrow's Meeting' and content: Hi [Boss's Name],                 \n",
       "\n",
       "I wanted to confirm my attendance for tomorrow's meeting. I am looking forward to it and have prepared the         \n",
       "necessary materials.                                                                                               \n",
       "\n",
       "Please let me know if there's anything specific you'd like me to bring or review beforehand.                       \n",
       "\n",
       "Best regards, [Your Name]                                                                                          \n"
      ]
     },
     "execution_count": 23,
     "metadata": {},
     "output_type": "execute_result"
    }
   ],
   "source": [
    "# Call the tool\n",
    "result = write_email.invoke(args)\n",
    "Markdown(result)"
   ]
  },
  {
   "cell_type": "markdown",
   "id": "b6f9c52a",
   "metadata": {},
   "source": [
    "![basic_prompt](img/tool_call.png)\n",
    "\n",
    "## Workflows\n",
    " \n",
    "There are many patterns for building applications with LLMs. \n",
    "\n",
    "[We can embed LLM calls into pre-defined workflows](https://langchain-ai.github.io/langgraph/tutorials/workflows/), giving the system more agency to make decisions. \n",
    "\n",
    "As an example, we could add a router step to determine whether to write an email or not.\n",
    "\n",
    "![workflow_example](img/workflow_example.png)\n",
    "\n",
    "## Agents\n",
    "\n",
    "We can further increase agency, allowing the LLM to dynamically direct its own tool usage. \n",
    "\n",
    "[Agents](https://langchain-ai.github.io/langgraph/tutorials/workflows/#agent) are typically implemented as tool calling in a loop, where the output of each tool call is used to inform the next action.\n",
    "\n",
    "![agent_example](img/agent_example.png)\n",
    "\n",
    "Agents are well suited to open-ended problems where it's difficult to predict the *exact* steps needed in advance.\n",
    " \n",
    "Workflows are often appropriate when the control flow can easily be defined in advance. \n",
    "\n",
    "![workflow_v_agent](img/workflow_v_agent.png)\n",
    "\n",
    "## What is LangGraph? \n",
    "\n",
    "[LangGraph](https://langchain-ai.github.io/langgraph/concepts/high_level/) provides low-level supporting infrastructure that sits underneath *any* workflow or agent. \n",
    "\n",
    "It does not abstract prompts or architecture, and provides a few benefits:\n",
    "\n",
    "- **Control**: Make it easy to define and / or combine agents and workflows.\n",
    "- **Persistence**: Provide a way to persist the state of a graph, which enables both memory and human-in-the-loop.\n",
    "- **Testing, Debugging, and Deployment**: Provide an easy onramp for testing, debugging, and deploying applications.\n",
    "\n",
    "### Control\n",
    "\n",
    "LangGraph lets you define your application as a graph with:\n",
    "\n",
    "1. *State*: What information do we need to track over the course of the application?\n",
    "2. *Nodes*: How do we want to update this information over the course of the application?\n",
    "3. *Edges*: How do we want to connect these nodes together?\n",
    "\n",
    "We can use the [`StateGraph` class](https://langchain-ai.github.io/langgraph/concepts/low_level/#graphs) to initialize a LangGraph graph with a [`State` object](https://langchain-ai.github.io/langgraph/concepts/low_level/#state).\n",
    "\n",
    "`State` defines the schema for information we want to track over the course of the application. \n",
    "\n",
    "This can be any object with `getattr()` in python, such as a dictionary, dataclass, or Pydantic object: \n",
    "\n",
    "- TypeDict is fastest but doesn’t support defaults\n",
    "- Dataclass is basically as fast, supports dot syntax `state.foo`, and has defaults. \n",
    "- Pydantic is slower (especially with custom validators) but gives type validation."
   ]
  },
  {
   "cell_type": "markdown",
   "id": "fa7cafea",
   "metadata": {},
   "source": [
    "总而言之，LangGraph由三部分构成——图、节点、边\n",
    "\n",
    "图——代表整个工作流的结构，管理节点、边以及状态（State）的容器。\n",
    "\n",
    "节点-函数，这个函数是用来处理状态的，执行具体任务，如调用 LLM、处理数据、调用工具等\n",
    "\n",
    "边-定义流程顺序，即“下一步该执行谁”。\n",
    "\n",
    "进一步解释图的概念：\n",
    "\n",
    "边只能告诉你“A→B”，但图要先把这条边记录下来，运行时才知道有这条边可用。\n",
    "\n",
    "边只是静态箭头，真正在每一步结束时读取箭头、找到下一个节点、把状态递过去的，是图内部的调度器。\n",
    "\n",
    "节点只是把新内容更新到状态；状态本身始终放在图这个“前台抽屉”里\n"
   ]
  },
  {
   "cell_type": "code",
   "execution_count": 25,
   "id": "3319290a",
   "metadata": {},
   "outputs": [],
   "source": [
    "from typing import TypedDict\n",
    "from langgraph.graph import StateGraph, START, END\n",
    "\n",
    "class StateSchema(TypedDict):\n",
    "    request: str\n",
    "    email: str\n",
    "\n",
    "workflow = StateGraph(StateSchema)"
   ]
  },
  {
   "cell_type": "markdown",
   "id": "b84bedb9",
   "metadata": {},
   "source": [
    "Each node is simply a python function or typescript code. This gives us full control over the logic inside each node.\n",
    "\n",
    "They receive the current state, and return a dictionary to update the state.\n",
    "\n",
    "By default, [state keys are overwritten](https://langchain-ai.github.io/langgraph/how-tos/state-reducers/). \n",
    "\n",
    "However, you can [define custom update logic](https://langchain-ai.github.io/langgraph/concepts/low_level/#reducers). \n",
    "\n",
    "![nodes_edges](img/nodes_edges.png)"
   ]
  },
  {
   "cell_type": "code",
   "execution_count": 26,
   "id": "d5e79c1f",
   "metadata": {},
   "outputs": [],
   "source": [
    " #加节点（用函数处理状态）\n",
    "def write_email_node(state: StateSchema) -> StateSchema:\n",
    "    # Imperative code that processes the request\n",
    "    output = model_with_tools.invoke(state[\"request\"])\n",
    "    args = output.tool_calls[0]['args']\n",
    "    email = write_email.invoke(args)\n",
    "    return {\"email\": email}\n"
   ]
  },
  {
   "cell_type": "markdown",
   "id": "737c8040",
   "metadata": {},
   "source": [
    "Edges connect nodes together. \n",
    "\n",
    "We specify the control flow by adding edges and nodes to our state graph. "
   ]
  },
  {
   "cell_type": "code",
   "execution_count": null,
   "id": "554e0d8b",
   "metadata": {},
   "outputs": [],
   "source": [
    "#加边（定义流程顺序）\n",
    "workflow.add_node(\"write_email_node\", write_email_node)\n",
    "workflow.add_edge(START, \"write_email_node\")\n",
    "workflow.add_edge(\"write_email_node\", END)\n",
    "\n",
    "app = workflow.compile()"
   ]
  },
  {
   "cell_type": "code",
   "execution_count": 29,
   "id": "7cc79b40",
   "metadata": {},
   "outputs": [
    {
     "data": {
      "text/plain": [
       "{'request': \"Draft a response to my boss (boss@company.ai) about tomorrow's meeting\",\n",
       " 'email': \"Email sent to boss@company.ai with subject 'Tomorrow's Meeting' and content: Hi Boss,\\\\n\\\\nI wanted to confirm my attendance for tomorrow's meeting. I am looking forward to it and have prepared the necessary materials.\\\\n\\\\nBest regards,\\\\n[Your Name]\"}"
      ]
     },
     "execution_count": 29,
     "metadata": {},
     "output_type": "execute_result"
    }
   ],
   "source": [
    "app.invoke({\"request\": \"Draft a response to my boss (boss@company.ai) about tomorrow's meeting\"})"
   ]
  },
  {
   "cell_type": "markdown",
   "id": "2446dea9",
   "metadata": {},
   "source": [
    "Routing between nodes can be done [conditionally](https://langchain-ai.github.io/langgraph/concepts/low_level/#conditional-edges) using a simple function. \n",
    "\n",
    "The return value of this function is used as the name of the node (or list of nodes) to send the state to next. \n",
    "\n",
    "You can optionally provide a dictionary that maps the `should_continue` output to the name of the next node."
   ]
  },
  {
   "cell_type": "code",
   "execution_count": 32,
   "id": "f29b05bf",
   "metadata": {},
   "outputs": [],
   "source": [
    "from typing import Literal\n",
    "from langgraph.graph import MessagesState\n",
    "from email_assistant.utils import show_graph\n",
    "\n",
    "def call_llm(state: MessagesState) -> MessagesState:\n",
    "    \"\"\"Run LLM\"\"\"\n",
    "#让 LLM 根据对话历史决定是否需要调用 write_email 工具，并把模型返回的 AIMessage（含 tool_calls）追加到消息列表。\n",
    "    output = model_with_tools.invoke(state[\"messages\"])\n",
    "    return {\"messages\": [output]}\n",
    "#state[\"messages\"] 是一个列表，里面按顺序保存了用户消息、AI 消息、工具返回等所有对话记录。\n",
    "\n",
    "#model_with_tools.invoke(...) 会：1、读取对话历史\n",
    "#2、如果模型觉得需要发邮件，就在返回的 AIMessage 里带上 tool_calls（包含函数名和参数）\n",
    "#3、如果不需要调用工具，就返回普通文本回复\n",
    "\n",
    "#return {\"messages\": [output]} 会把这条新消息追加到 state[\"messages\"] 后面\n",
    "\n",
    "\n",
    "def run_tool(state: MessagesState):\n",
    "    \"\"\"Performs the tool call\"\"\"\n",
    "#把每个工具调用真正执行一遍，并把执行结果（role=tool）追加回消息列表。\n",
    "    result = []\n",
    "    for tool_call in state[\"messages\"][-1].tool_calls:\n",
    "        observation = write_email.invoke(tool_call[\"args\"])\n",
    "        result.append({\"role\": \"tool\", \"content\": observation, \"tool_call_id\": tool_call[\"id\"]})\n",
    "    return {\"messages\": result}\n",
    "\n",
    "def should_continue(state: MessagesState) -> Literal[\"run_tool\", \"__end__\"]:\n",
    "    \"\"\"Route to tool handler, or end if Done tool called\"\"\"\n",
    "#查看最新消息里有没有 tool_calls    \n",
    "    # Get the last message\n",
    "    messages = state[\"messages\"]\n",
    "    last_message = messages[-1]\n",
    "    \n",
    "    # If the last message is a tool call, check if it's a Done tool call\n",
    "    if last_message.tool_calls:\n",
    "        return \"run_tool\"\n",
    "    # Otherwise, we stop (reply to the user)\n",
    "    return END\n",
    "\n",
    "workflow = StateGraph(MessagesState)\n",
    "workflow.add_node(\"call_llm\", call_llm)\n",
    "workflow.add_node(\"run_tool\", run_tool)\n",
    "workflow.add_edge(START, \"call_llm\")\n",
    "workflow.add_conditional_edges(\"call_llm\", should_continue, {\"run_tool\": \"run_tool\", END: END})\n",
    "workflow.add_edge(\"run_tool\", END)\n",
    "\n",
    "# Run the workflow\n",
    "app = workflow.compile()"
   ]
  },
  {
   "cell_type": "code",
   "execution_count": 33,
   "id": "fd9f07af-c633-4527-b2d9-52c6451dc9c5",
   "metadata": {},
   "outputs": [
    {
     "data": {
      "image/png": "[encoded data removed]",
      "text/plain": [
       "<IPython.core.display.Image object>"
      ]
     },
     "execution_count": 33,
     "metadata": {},
     "output_type": "execute_result"
    }
   ],
   "source": [
    "show_graph(app)"
   ]
  },
  {
   "cell_type": "code",
   "execution_count": 34,
   "id": "dadbafde",
   "metadata": {},
   "outputs": [
    {
     "name": "stdout",
     "output_type": "stream",
     "text": [
      "================================\u001b[1m Human Message \u001b[0m=================================\n",
      "\n",
      "Draft a response to my boss (boss@company.ai) confirming that I want to attend Interrupt!\n",
      "==================================\u001b[1m Ai Message \u001b[0m==================================\n",
      "Tool Calls:\n",
      "  write_email (call_db5fb9cc2794468a99967881)\n",
      " Call ID: call_db5fb9cc2794468a99967881\n",
      "  Args:\n",
      "    to: boss@company.ai\n",
      "    subject: Confirmation of Attendance at Interrupt!\n",
      "    content: Hi Boss,\\n\\nI wanted to confirm that I would like to attend Interrupt! Please let me know if there's anything else I need to do to finalize my registration.\\n\\nBest regards,\\n[Your Name]\n",
      "=================================\u001b[1m Tool Message \u001b[0m=================================\n",
      "\n",
      "Email sent to boss@company.ai with subject 'Confirmation of Attendance at Interrupt!' and content: Hi Boss,\\n\\nI wanted to confirm that I would like to attend Interrupt! Please let me know if there's anything else I need to do to finalize my registration.\\n\\nBest regards,\\n[Your Name]\n"
     ]
    }
   ],
   "source": [
    "result = app.invoke({\"messages\": [{\"role\": \"user\", \"content\": \"Draft a response to my boss (boss@company.ai) confirming that I want to attend Interrupt!\"}]})\n",
    "for m in result[\"messages\"]:\n",
    "    m.pretty_print()"
   ]
  },
  {
   "cell_type": "markdown",
   "id": "a78b232d",
   "metadata": {},
   "source": [
    "With these low level components, you can build many many different workflows and agents. See [this tutorial](https://langchain-ai.github.io/langgraph/tutorials/workflows/)!\n",
    "\n",
    "Because agents are such a common pattern, [LangGraph](https://langchain-ai.github.io/langgraph/tutorials/workflows/#pre-built) has [a pre-built agent](https://langchain-ai.github.io/langgraph/agents/overview/?ref=blog.langchain.dev#what-is-an-agent) abstraction.\n",
    "\n",
    "With LangGraph's [pre-built method](https://langchain-ai.github.io/langgraph/tutorials/workflows/#pre-built), we just pass in the LLM, tools, and prompt. "
   ]
  },
  {
   "cell_type": "markdown",
   "id": "39f26cb5",
   "metadata": {},
   "source": [
    "create_react_agent自动帮你：\n",
    "\n",
    "构造思考 (call_llm)\n",
    "\n",
    "若需要发邮件，则调用 工具 (should_continue、run_tool)\n",
    "\n",
    "把工具返回的 结果 再抛给 LLM 继续思考或给出最终回答\n",
    "\n",
    "你无需手动写 call_llm / run_tool / should_continue 这些节点和边。\n",
    "\n",
    "你只需要：提供{\"messages\": [...]} 就够了"
   ]
  },
  {
   "cell_type": "code",
   "execution_count": 35,
   "id": "5a317ad8",
   "metadata": {},
   "outputs": [
    {
     "name": "stdout",
     "output_type": "stream",
     "text": [
      "================================\u001b[1m Human Message \u001b[0m=================================\n",
      "\n",
      "Draft a response to my boss (boss@company.ai) confirming that I want to attend Interrupt!\n",
      "==================================\u001b[1m Ai Message \u001b[0m==================================\n",
      "Tool Calls:\n",
      "  write_email (call_592b3731e73c4b06930118b6)\n",
      " Call ID: call_592b3731e73c4b06930118b6\n",
      "  Args:\n",
      "    to: boss@company.ai\n",
      "    subject: Confirmation of Attendance at Interrupt!\n",
      "    content: Hi Boss,\\n\\nI wanted to confirm that I would like to attend Interrupt! Please let me know if there's anything else I need to do to finalize my registration.\\n\\nBest regards,\\n[Your Name]\n",
      "=================================\u001b[1m Tool Message \u001b[0m=================================\n",
      "Name: write_email\n",
      "\n",
      "Email sent to boss@company.ai with subject 'Confirmation of Attendance at Interrupt!' and content: Hi Boss,\\n\\nI wanted to confirm that I would like to attend Interrupt! Please let me know if there's anything else I need to do to finalize my registration.\\n\\nBest regards,\\n[Your Name]\n",
      "==================================\u001b[1m Ai Message \u001b[0m==================================\n",
      "\n",
      "Your email has been sent to your boss confirming your interest in attending Interrupt!\n"
     ]
    }
   ],
   "source": [
    "from langgraph.prebuilt import create_react_agent\n",
    "\n",
    "agent = create_react_agent(\n",
    "    model=llm,\n",
    "    tools=[write_email],\n",
    "    prompt=\"Respond to the user's request using the tools provided.\"  \n",
    ")\n",
    "\n",
    "# Run the agent\n",
    "result = agent.invoke(\n",
    "    {\"messages\": [{\"role\": \"user\", \"content\": \"Draft a response to my boss (boss@company.ai) confirming that I want to attend Interrupt!\"}]}\n",
    ")\n",
    "\n",
    "for m in result[\"messages\"]:\n",
    "    m.pretty_print()"
   ]
  },
  {
   "cell_type": "markdown",
   "id": "3c6e506f",
   "metadata": {},
   "source": [
    "### Persistence\n",
    "\n",
    "#### Threads\n",
    "\n",
    "It can be very useful to allow agents to pause during long running tasks.\n",
    "\n",
    "LangGraph has a built-in persistence layer, implemented through checkpointers, to enable this. \n",
    "\n",
    "When you compile graph with a checkpointer, the checkpointer saves a [checkpoint](https://langchain-ai.github.io/langgraph/concepts/persistence/#checkpoints) of the graph state at every step. \n",
    "\n",
    "Checkpoints are saved to a thread, which can be accessed after graph execution completes.\n",
    "\n",
    "![checkpointer](img/checkpoints.png)\n",
    "\n",
    "We compile the graph with a [checkpointer](https://langchain-ai.github.io/langgraph/concepts/persistence/#checkpointer-libraries).\n"
   ]
  },
  {
   "cell_type": "code",
   "execution_count": 36,
   "id": "9a72377e",
   "metadata": {},
   "outputs": [],
   "source": [
    "from langgraph.checkpoint.memory import InMemorySaver\n",
    "\n",
    "agent = create_react_agent(\n",
    "    model=llm,\n",
    "    tools=[write_email],\n",
    "    prompt=\"Respond to the user's request using the tools provided.\",\n",
    "    checkpointer=InMemorySaver()\n",
    ")\n",
    "\n",
    "config = {\"configurable\": {\"thread_id\": \"1\"}}\n",
    "result = agent.invoke({\"messages\": [{\"role\": \"user\", \"content\": \"What are some good practices for writing emails?\"}]}, config)\n",
    "                    "
   ]
  },
  {
   "cell_type": "markdown",
   "id": "ac75ae7f",
   "metadata": {},
   "source": [
    "先用 get_state 查看历史，再用同一线程 invoke 传入新消息，Agent 会在完整上下文中自动写邮件并给出回复。"
   ]
  },
  {
   "cell_type": "code",
   "execution_count": 37,
   "id": "10984007",
   "metadata": {},
   "outputs": [
    {
     "name": "stdout",
     "output_type": "stream",
     "text": [
      "================================\u001b[1m Human Message \u001b[0m=================================\n",
      "\n",
      "What are some good practices for writing emails?\n",
      "==================================\u001b[1m Ai Message \u001b[0m==================================\n",
      "\n",
      "Here are some good practices for writing effective emails:\n",
      "\n",
      "1. **Use a Clear Subject Line**: Make sure the subject line is specific and gives the recipient an idea of what the email is about.\n",
      "\n",
      "2. **Be Concise and Direct**: Get to the point quickly. Avoid long paragraphs and unnecessary details.\n",
      "\n",
      "3. **Use a Professional Tone**: Be polite and respectful, even if the email is informal. Avoid using slang or overly casual language.\n",
      "\n",
      "4. **Structure Your Email Well**:\n",
      "   - Start with a greeting.\n",
      "   - Follow with the main message in the body.\n",
      "   - End with a clear call to action or closing remark.\n",
      "   - Use a professional sign-off.\n",
      "\n",
      "5. **Check for Errors**: Proofread your email for spelling and grammar mistakes before sending.\n",
      "\n",
      "6. **Be Mindful of the Recipient’s Time**: If the email requires action from the recipient, make it clear and easy for them to respond or comply.\n",
      "\n",
      "7. **Use Formatting Sparingly**: Avoid excessive use of bold, italics, or colors. Use bullet points or numbered lists to organize information when necessary.\n",
      "\n",
      "8. **Include a Signature**: Add a professional email signature with your name, title, and contact information.\n",
      "\n",
      "Would you like help drafting an email following these practices?\n"
     ]
    }
   ],
   "source": [
    "# Get the latest state snapshot\n",
    "config = {\"configurable\": {\"thread_id\": \"1\"}}\n",
    "state = agent.get_state(config)\n",
    "for message in state.values['messages']:\n",
    "    message.pretty_print()"
   ]
  },
  {
   "cell_type": "code",
   "execution_count": 38,
   "id": "7f23ac58",
   "metadata": {},
   "outputs": [
    {
     "name": "stdout",
     "output_type": "stream",
     "text": [
      "================================\u001b[1m Human Message \u001b[0m=================================\n",
      "\n",
      "What are some good practices for writing emails?\n",
      "==================================\u001b[1m Ai Message \u001b[0m==================================\n",
      "\n",
      "Here are some good practices for writing effective emails:\n",
      "\n",
      "1. **Use a Clear Subject Line**: Make sure the subject line is specific and gives the recipient an idea of what the email is about.\n",
      "\n",
      "2. **Be Concise and Direct**: Get to the point quickly. Avoid long paragraphs and unnecessary details.\n",
      "\n",
      "3. **Use a Professional Tone**: Be polite and respectful, even if the email is informal. Avoid using slang or overly casual language.\n",
      "\n",
      "4. **Structure Your Email Well**:\n",
      "   - Start with a greeting.\n",
      "   - Follow with the main message in the body.\n",
      "   - End with a clear call to action or closing remark.\n",
      "   - Use a professional sign-off.\n",
      "\n",
      "5. **Check for Errors**: Proofread your email for spelling and grammar mistakes before sending.\n",
      "\n",
      "6. **Be Mindful of the Recipient’s Time**: If the email requires action from the recipient, make it clear and easy for them to respond or comply.\n",
      "\n",
      "7. **Use Formatting Sparingly**: Avoid excessive use of bold, italics, or colors. Use bullet points or numbered lists to organize information when necessary.\n",
      "\n",
      "8. **Include a Signature**: Add a professional email signature with your name, title, and contact information.\n",
      "\n",
      "Would you like help drafting an email following these practices?\n",
      "================================\u001b[1m Human Message \u001b[0m=================================\n",
      "\n",
      "Good, let's use lesson 3 to craft a response to my boss confirming that I want to attend Interrupt\n",
      "==================================\u001b[1m Ai Message \u001b[0m==================================\n",
      "\n",
      "Sure! Let's craft a professional and concise email to your boss confirming your attendance at Interrupt. Here's a draft following the best practices:\n",
      "\n",
      "---\n",
      "\n",
      "**Subject:** Confirmation of Attendance at Interrupt\n",
      "\n",
      "**Body:**\n",
      "\n",
      "Hi [Boss's Name],\n",
      "\n",
      "I wanted to confirm my attendance at Interrupt. I’m looking forward to the event and the opportunities it presents for professional growth and networking.\n",
      "\n",
      "Please let me know if you need any additional information or documentation.\n",
      "\n",
      "Best regards,  \n",
      "[Your Name]\n",
      "\n",
      "---\n",
      "\n",
      "Feel free to tweak it as needed. If you'd like, I can send this email for you. Let me know!\n"
     ]
    }
   ],
   "source": [
    "# Continue the conversation\n",
    "result = agent.invoke({\"messages\": [{\"role\": \"user\", \"content\": \"Good, let's use lesson 3 to craft a response to my boss confirming that I want to attend Interrupt\"}]}, config)\n",
    "for m in result['messages']:\n",
    "    m.pretty_print()"
   ]
  },
  {
   "cell_type": "code",
   "execution_count": 39,
   "id": "5f09fe50",
   "metadata": {},
   "outputs": [
    {
     "name": "stdout",
     "output_type": "stream",
     "text": [
      "================================\u001b[1m Human Message \u001b[0m=================================\n",
      "\n",
      "What are some good practices for writing emails?\n",
      "==================================\u001b[1m Ai Message \u001b[0m==================================\n",
      "\n",
      "Here are some good practices for writing effective emails:\n",
      "\n",
      "1. **Use a Clear Subject Line**: Make sure the subject line is specific and gives the recipient an idea of what the email is about.\n",
      "\n",
      "2. **Be Concise and Direct**: Get to the point quickly. Avoid long paragraphs and unnecessary details.\n",
      "\n",
      "3. **Use a Professional Tone**: Be polite and respectful, even if the email is informal. Avoid using slang or overly casual language.\n",
      "\n",
      "4. **Structure Your Email Well**:\n",
      "   - Start with a greeting.\n",
      "   - Follow with the main message in the body.\n",
      "   - End with a clear call to action or closing remark.\n",
      "   - Use a professional sign-off.\n",
      "\n",
      "5. **Check for Errors**: Proofread your email for spelling and grammar mistakes before sending.\n",
      "\n",
      "6. **Be Mindful of the Recipient’s Time**: If the email requires action from the recipient, make it clear and easy for them to respond or comply.\n",
      "\n",
      "7. **Use Formatting Sparingly**: Avoid excessive use of bold, italics, or colors. Use bullet points or numbered lists to organize information when necessary.\n",
      "\n",
      "8. **Include a Signature**: Add a professional email signature with your name, title, and contact information.\n",
      "\n",
      "Would you like help drafting an email following these practices?\n",
      "================================\u001b[1m Human Message \u001b[0m=================================\n",
      "\n",
      "Good, let's use lesson 3 to craft a response to my boss confirming that I want to attend Interrupt\n",
      "==================================\u001b[1m Ai Message \u001b[0m==================================\n",
      "\n",
      "Sure! Let's craft a professional and concise email to your boss confirming your attendance at Interrupt. Here's a draft following the best practices:\n",
      "\n",
      "---\n",
      "\n",
      "**Subject:** Confirmation of Attendance at Interrupt\n",
      "\n",
      "**Body:**\n",
      "\n",
      "Hi [Boss's Name],\n",
      "\n",
      "I wanted to confirm my attendance at Interrupt. I’m looking forward to the event and the opportunities it presents for professional growth and networking.\n",
      "\n",
      "Please let me know if you need any additional information or documentation.\n",
      "\n",
      "Best regards,  \n",
      "[Your Name]\n",
      "\n",
      "---\n",
      "\n",
      "Feel free to tweak it as needed. If you'd like, I can send this email for you. Let me know!\n",
      "================================\u001b[1m Human Message \u001b[0m=================================\n",
      "\n",
      "I like this, let's write the email to boss@company.ai\n",
      "==================================\u001b[1m Ai Message \u001b[0m==================================\n",
      "Tool Calls:\n",
      "  write_email (call_6c085ec1292540c6bf516423)\n",
      " Call ID: call_6c085ec1292540c6bf516423\n",
      "  Args:\n",
      "    to: boss@company.ai\n",
      "    subject: Confirmation of Attendance at Interrupt\n",
      "    content: Hi [Boss's Name],\n",
      "\n",
      "I wanted to confirm my attendance at Interrupt. I’m looking forward to the event and the opportunities it presents for professional growth and networking.\n",
      "\n",
      "Please let me know if you need any additional information or documentation.\n",
      "\n",
      "Best regards,  \n",
      "[Your Name]\n",
      "=================================\u001b[1m Tool Message \u001b[0m=================================\n",
      "Name: write_email\n",
      "\n",
      "Email sent to boss@company.ai with subject 'Confirmation of Attendance at Interrupt' and content: Hi [Boss's Name],\n",
      "\n",
      "I wanted to confirm my attendance at Interrupt. I’m looking forward to the event and the opportunities it presents for professional growth and networking.\n",
      "\n",
      "Please let me know if you need any additional information or documentation.\n",
      "\n",
      "Best regards,  \n",
      "[Your Name]\n",
      "==================================\u001b[1m Ai Message \u001b[0m==================================\n",
      "\n",
      "The email has been successfully sent to your boss confirming your attendance at Interrupt. Let me know if there's anything else you'd like assistance with!\n"
     ]
    }
   ],
   "source": [
    "# Continue the conversation\n",
    "result = agent.invoke({\"messages\": [{\"role\": \"user\", \"content\": \"I like this, let's write the email to boss@company.ai\"}]}, config)\n",
    "for m in result['messages']:\n",
    "    m.pretty_print()"
   ]
  },
  {
   "cell_type": "markdown",
   "id": "4ae8a5d2-cf8a-4465-8d1b-96bb6c6276cf",
   "metadata": {},
   "source": [
    "#### Interrupts\n",
    "\n",
    "In LangGraph, we can also use [interrupts](https://langchain-ai.github.io/langgraph/how-tos/human_in_the_loop/wait-user-input/) to stop graph execution at specific points.\n",
    "\n",
    "Often this is used to collect input from a user and continue execution with collected input."
   ]
  },
  {
   "cell_type": "code",
   "execution_count": 40,
   "id": "52c17b60-9474-49a5-b4a1-583b0dc8bba7",
   "metadata": {},
   "outputs": [],
   "source": [
    "from typing_extensions import TypedDict\n",
    "from langgraph.graph import StateGraph, START, END\n",
    "\n",
    "from langgraph.types import Command, interrupt\n",
    "from langgraph.checkpoint.memory import InMemorySaver\n",
    "\n",
    "class State(TypedDict):\n",
    "    input: str\n",
    "    user_feedback: str\n",
    "\n",
    "def step_1(state):\n",
    "    print(\"---Step 1---\")\n",
    "    pass\n",
    "\n",
    "def human_feedback(state):\n",
    "    print(\"---human_feedback---\")\n",
    "    feedback = interrupt(\"Please provide feedback:\")\n",
    "    return {\"user_feedback\": feedback}\n",
    "\n",
    "def step_3(state):\n",
    "    print(\"---Step 3---\")\n",
    "    pass\n",
    "\n",
    "builder = StateGraph(State)\n",
    "builder.add_node(\"step_1\", step_1)\n",
    "builder.add_node(\"human_feedback\", human_feedback)\n",
    "builder.add_node(\"step_3\", step_3)\n",
    "builder.add_edge(START, \"step_1\")\n",
    "builder.add_edge(\"step_1\", \"human_feedback\")\n",
    "builder.add_edge(\"human_feedback\", \"step_3\")\n",
    "builder.add_edge(\"step_3\", END)\n",
    "\n",
    "# Set up memory\n",
    "memory = InMemorySaver()\n",
    "\n",
    "# Add\n",
    "graph = builder.compile(checkpointer=memory)"
   ]
  },
  {
   "cell_type": "code",
   "execution_count": 41,
   "id": "57c94cb7-067c-4bc5-be33-b615d8e5775e",
   "metadata": {
    "scrolled": true
   },
   "outputs": [
    {
     "data": {
      "image/png": "[encoded data removed]",
      "text/plain": [
       "<IPython.core.display.Image object>"
      ]
     },
     "execution_count": 41,
     "metadata": {},
     "output_type": "execute_result"
    }
   ],
   "source": [
    "show_graph(graph)"
   ]
  },
  {
   "cell_type": "code",
   "execution_count": 42,
   "id": "028372b5-88ae-4f13-813d-22430a697f07",
   "metadata": {},
   "outputs": [
    {
     "name": "stdout",
     "output_type": "stream",
     "text": [
      "---Step 1---\n",
      "{'step_1': None}\n",
      "\n",
      "\n",
      "---human_feedback---\n",
      "{'__interrupt__': (Interrupt(value='Please provide feedback:', id='15424cb31dd72e5014c282adac5ab532'),)}\n",
      "\n",
      "\n"
     ]
    }
   ],
   "source": [
    "# Input\n",
    "initial_input = {\"input\": \"hello world\"}\n",
    "\n",
    "# Thread\n",
    "thread = {\"configurable\": {\"thread_id\": \"1\"}}\n",
    "\n",
    "#graph.stream(...) 把实参initial_input作为初始状态传给第一个节点step_1\n",
    "# Run the graph until the first interruption\n",
    "for event in graph.stream(initial_input, thread, stream_mode=\"updates\"):\n",
    "    print(event)\n",
    "    print(\"\\n\")"
   ]
  },
  {
   "cell_type": "markdown",
   "id": "f142d467-7b4c-4a04-bad5-bf3fbe953b84",
   "metadata": {},
   "source": [
    "To resume from an interrupt, we can use [the `Command` object](https://langchain-ai.github.io/langgraph/how-tos/command/). \n",
    "\n",
    "We'll use it to resume the graph from the interrupted state, passing the value to return from the interrupt call to `resume`. "
   ]
  },
  {
   "cell_type": "code",
   "execution_count": 43,
   "id": "d90374d3-65a1-4658-82ee-a16cc2835cf4",
   "metadata": {},
   "outputs": [
    {
     "name": "stdout",
     "output_type": "stream",
     "text": [
      "---human_feedback---\n",
      "{'human_feedback': {'user_feedback': 'go to step 3!'}}\n",
      "\n",
      "\n",
      "---Step 3---\n",
      "{'step_3': None}\n",
      "\n",
      "\n"
     ]
    }
   ],
   "source": [
    "# Continue the graph execution\n",
    "for event in graph.stream(\n",
    "    Command(resume=\"go to step 3!\"),\n",
    "    thread,\n",
    "    stream_mode=\"updates\",\n",
    "):\n",
    "    print(event)\n",
    "    print(\"\\n\")"
   ]
  },
  {
   "cell_type": "markdown",
   "id": "8639a518",
   "metadata": {},
   "source": [
    "### Tracing\n",
    "\n",
    "When we are using LangChain or LangGraph, LangSmith logging [will work out of the box](https://docs.smith.langchain.com/observability/how_to_guides/trace_with_langgraph) with the following environment variables set:\n",
    "\n",
    "```\n",
    "export LANGSMITH_TRACING=true\n",
    "export LANGSMITH_API_KEY=\"<your-langsmith-api-key>\"\n",
    "```"
   ]
  },
  {
   "cell_type": "markdown",
   "id": "9cb2a3e5",
   "metadata": {},
   "source": [
    "Here is the LangSmith trace from above agent execution:\n",
    "\n",
    "https://smith.langchain.com/public/6f77014f-d054-44ed-aa2c-8b06ceab689f/r\n",
    "\n",
    "We can see that the agent is able to continue the conversation from the previous state because we used a checkpointer."
   ]
  },
  {
   "cell_type": "markdown",
   "id": "f0269214",
   "metadata": {},
   "source": [
    "### Deployment\n",
    "\n",
    "We can also deploy our graph using [LangGraph Platform](https://langchain-ai.github.io/langgraph/concepts/langgraph_platform/). \n",
    "\n",
    "This creates a server [with an API](https://langchain-ai.github.io/langgraph/cloud/reference/api/api_ref.html) that we can use to interact with our graph and an interactive IDE, LangGraph [Studio](https://langchain-ai.github.io/langgraph/concepts/langgraph_studio/).\n",
    "\n",
    "We simply need to ensure our project has [a structure](https://langchain-ai.github.io/langgraph/concepts/application_structure/) like this:\n",
    "\n",
    "```\n",
    "my-app/\n",
    "├── src/email_assistant # all project code lies within here\n",
    "│   └── langgraph101.py # code for constructing your graph\n",
    "├── .env # environment variables\n",
    "├── langgraph.json  # configuration file for LangGraph\n",
    "└── pyproject.toml # dependencies for your project\n",
    "```\n",
    "\n",
    "The `langgraph.json` file specifies the dependencies, graphs, environment variables, and other settings required to start a LangGraph server.\n",
    "\n",
    "To test this, let's deploy `langgraph_101.py`. We have it in our `langgraph.json` file in this repo:\n",
    "\n",
    "```\n",
    " \"langgraph101\": \"./src/email_assistant/langgraph_101.py:app\",\n",
    "```\n",
    "\n",
    "For LangGraph Platform, there are a range of [deployment options](https://langchain-ai.github.io/langgraph/tutorials/deployment/): \n",
    " \n",
    "* Local deployments can be started with `langgraph dev` from the root directory of the repo. Checkpoints are saved to the local filesystem.\n",
    "* There are also various [self-hosted options](https://langchain-ai.github.io/langgraph/tutorials/deployment/#other-deployment-options). \n",
    "* For hosted deployments, checkpoints are saved to Postgres using a postgres [checkpointer](https://langchain-ai.github.io/langgraph/concepts/persistence/#checkpointer-libraries). \n",
    "\n",
    "Test: \n",
    "```\n",
    "Draft a response to my boss (boss@company.ai) confirming that I want to attent Interrupt!\n",
    "```"
   ]
  },
  {
   "cell_type": "markdown",
   "id": "f3644093",
   "metadata": {},
   "source": [
    "Here we can see a visualization of the graph as well as the graph state in Studio.\n",
    "\n",
    "![langgraph_studio](img/langgraph_studio.png)\n",
    "\n",
    "Also, you can see API docs for the local deployment here:\n",
    "\n",
    "http://127.0.0.1:2024/docs"
   ]
  }
 ],
 "metadata": {
  "jupytext": {
   "cell_metadata_filter": "-all",
   "main_language": "python",
   "notebook_metadata_filter": "-all"
  },
  "kernelspec": {
   "display_name": "email_assistant",
   "language": "python",
   "name": "python3"
  },
  "language_info": {
   "codemirror_mode": {
    "name": "ipython",
    "version": 3
   },
   "file_extension": ".py",
   "mimetype": "text/x-python",
   "name": "python",
   "nbconvert_exporter": "python",
   "pygments_lexer": "ipython3",
   "version": "3.12.11"
  }
 },
 "nbformat": 4,
 "nbformat_minor": 5
}
